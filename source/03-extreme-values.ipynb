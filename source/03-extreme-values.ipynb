{
 "cells": [
  {
   "cell_type": "code",
   "execution_count": null,
   "metadata": {},
   "outputs": [],
   "source": [
    "import math\n",
    "import numpy as np\n",
    "import scipy\n",
    "import scipy.stats\n",
    "from scipy.stats import gamma\n",
    "import pandas as pd\n",
    "import altair as alt\n",
    "from detail.altairdf import altairDF\n",
    "alt.renderers.enable(\"notebook\")"
   ]
  },
  {
   "cell_type": "code",
   "execution_count": null,
   "metadata": {},
   "outputs": [],
   "source": [
    "plotdf = altairDF(np.linspace(0, 20, num=20).tolist(), \\\n",
    "                  [lambda x: gamma.cdf(x, 1.)], \\\n",
    "                  labels = [\"gamma(1.0)\"], ycol=\"CDF\")\n",
    "chart = alt.Chart().mark_line().encode(x=\"x\", y=\"CDF\", color=\"color\")\n",
    "rule = alt.Chart().mark_rule(color=\"red\").encode(x='maximum:Q')\n",
    "alt.layer(chart, rule, data=plotdf).transform_calculate(maximum=\"10\")"
   ]
  },
  {
   "cell_type": "code",
   "execution_count": null,
   "metadata": {},
   "outputs": [],
   "source": [
    "sum([max(gamma.rvs(1.0, size=100)) for x in range(10)])/10"
   ]
  },
  {
   "cell_type": "code",
   "execution_count": null,
   "metadata": {},
   "outputs": [],
   "source": [
    "sum([max(gamma.rvs(1.0, size=1000)) for x in range(10)])/10"
   ]
  },
  {
   "cell_type": "code",
   "execution_count": null,
   "metadata": {},
   "outputs": [],
   "source": [
    "sum([max(gamma.rvs(1.0, size=10000)) for x in range(10)])/10"
   ]
  },
  {
   "cell_type": "code",
   "execution_count": null,
   "metadata": {},
   "outputs": [],
   "source": [
    "def extremeCDF(x, n, cdf):\n",
    "    return math.pow(cdf(x), n)"
   ]
  },
  {
   "cell_type": "code",
   "execution_count": null,
   "metadata": {},
   "outputs": [],
   "source": [
    "ssv = [100, 1000, 10000, 100000]\n",
    "pd.DataFrame({\n",
    "    'ss': ssv,\n",
    "    'evCDF': [extremeCDF(10, ss, lambda x: gamma.cdf(x, 1.)) for ss in ssv]\n",
    "})"
   ]
  },
  {
   "cell_type": "code",
   "execution_count": null,
   "metadata": {},
   "outputs": [],
   "source": [
    "from detail.tdigest import TDigest\n",
    "\n",
    "class ExtremeValueAnomalyDetector(object):\n",
    "    def __init__(self, td):\n",
    "        self.td = td\n",
    "    \n",
    "    def anomaly(self, xmax, n):\n",
    "        p = 1 - math.pow(self.td.cdf(xmax), n)\n",
    "        p = max(p, 1e-100)\n",
    "        return -math.log(p)"
   ]
  },
  {
   "cell_type": "code",
   "execution_count": null,
   "metadata": {},
   "outputs": [],
   "source": [
    "sketch = TDigest(compression = 0.05)\n",
    "for x in gamma.rvs(1.0, size = 100000):\n",
    "    sketch.update(x)\n",
    "detector = ExtremeValueAnomalyDetector(sketch)"
   ]
  },
  {
   "cell_type": "code",
   "execution_count": null,
   "metadata": {},
   "outputs": [],
   "source": [
    "plotdf = altairDF(range(13), \\\n",
    "                  [lambda x: detector.anomaly(x, 100),lambda x: detector.anomaly(x, 1000),lambda x: detector.anomaly(x, 10000)], \\\n",
    "                  labels = [\"100\", \"1000\", \"10000\"], \\\n",
    "                  xcol=\"xmax\", ycol=\"anomaly-score\", ccol=\"sample-size\")\n",
    "alt.Chart(plotdf).mark_line(point=True,clip=True).encode(alt.Y('anomaly-score', scale=alt.Scale(domain=(0, 7))), x=\"xmax\", color=\"sample-size\")"
   ]
  },
  {
   "cell_type": "code",
   "execution_count": null,
   "metadata": {},
   "outputs": [],
   "source": []
  }
 ],
 "metadata": {
  "kernelspec": {
   "display_name": "Python 3",
   "language": "python",
   "name": "python3"
  },
  "language_info": {
   "codemirror_mode": {
    "name": "ipython",
    "version": 3
   },
   "file_extension": ".py",
   "mimetype": "text/x-python",
   "name": "python",
   "nbconvert_exporter": "python",
   "pygments_lexer": "ipython3",
   "version": "3.7.3"
  }
 },
 "nbformat": 4,
 "nbformat_minor": 2
}
