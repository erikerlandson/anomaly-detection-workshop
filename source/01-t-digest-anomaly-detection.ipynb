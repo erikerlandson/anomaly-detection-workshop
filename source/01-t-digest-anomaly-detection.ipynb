{
 "cells": [
  {
   "cell_type": "markdown",
   "metadata": {},
   "source": [
    "# Anomaly Detection with the T-Digest\n",
    "\n",
    "The [t-digest](https://github.com/tdunning/t-digest) is a compact data structure for summarizing observed cumulative probability distributions. Like many data sketching structures, it is incremental, scalable, and parallel (although the implementation in this notebook is not parallel).\n",
    "\n",
    "This notebook explores using T-Digests as an anomaly detection structure. T-Digests sketch a Cumulative Distribution Function, and so they can be used to generate anomaly scores using a CDF as we did for Gaussian data in the previous notebook. However, T-Digests will accurately sketch distributions of any shape, which makes them a very flexible anomaly detection tool."
   ]
  },
  {
   "cell_type": "code",
   "execution_count": null,
   "metadata": {},
   "outputs": [],
   "source": [
    "import math\n",
    "import numpy as np\n",
    "import scipy\n",
    "import scipy.stats\n",
    "import pandas as pd\n",
    "import altair as alt\n",
    "alt.renderers.enable(\"notebook\")"
   ]
  },
  {
   "cell_type": "markdown",
   "metadata": {},
   "source": [
    "# T-Digest\n",
    "\n",
    "In the following cell we will import a `TDigest` class that implements the `update` operation for inserting data elements into the sketch. This tutorial implementation does not provide the `merge` operation, which is useful for combining partial results in a distributed computing setting.\n",
    "\n",
    "For those interested in how t-digests operate, the implementation is in the `tdigest.py` file of this workshop repository."
   ]
  },
  {
   "cell_type": "code",
   "execution_count": null,
   "metadata": {},
   "outputs": [],
   "source": [
    "from detail.tdigest import TDigest"
   ]
  },
  {
   "cell_type": "markdown",
   "metadata": {},
   "source": [
    "## Sketching data with the t-digest\n",
    "\n",
    "Data in the real world rarely obeys exact parameteric distributions, such as Gaussian, Exponential, or Gamma.\n",
    "In the following cells, we will generate some data that is a mixture of two Gamma distributions having different shapes.\n",
    "The resulting data has a somewhat irregular distribution, but is non-negative and has a long tail, similar to system-generated distributions like query latency data."
   ]
  },
  {
   "cell_type": "code",
   "execution_count": null,
   "metadata": {},
   "outputs": [],
   "source": [
    "a1 = 1\n",
    "a2 = 7\n",
    "w1 = 0.5\n",
    "w2 = 0.5\n",
    "\n",
    "# Sample from a mixture of two gamma distributions\n",
    "def mixsamp():\n",
    "    r = scipy.stats.uniform.rvs(size=1)[0]\n",
    "    if (r <= w1):\n",
    "        return scipy.stats.gamma.rvs(a1, size=1)[0]\n",
    "    else:\n",
    "        return scipy.stats.gamma.rvs(a2, size=1)[0]\n",
    "\n",
    "# Sketch some data sampled from this distribution with a t-digest\n",
    "sketch = TDigest(compression = 0.1)\n",
    "for p in [mixsamp() for x in range(100000)]:\n",
    "    sketch.update(p)"
   ]
  },
  {
   "cell_type": "markdown",
   "metadata": {},
   "source": [
    "# Visualizing the CDF\n",
    "In the following cell we plot the t-digest CDF along side the true CDF, to demonstrate that the t-digest has provided an accurate sketch of this somewhat irregular distribution."
   ]
  },
  {
   "cell_type": "code",
   "execution_count": null,
   "metadata": {},
   "outputs": [],
   "source": [
    "xvals = np.arange(sketch.cdfi(0), sketch.cdfi(1)).tolist()\n",
    "df = pd.DataFrame()\n",
    "df[\"x\"] = xvals + xvals\n",
    "df[\"cdf\"] = [sketch.cdf(x) for x in xvals] + [(w1 * scipy.stats.gamma.cdf(x, a1)) + (w2 * scipy.stats.gamma.cdf(x, a2)) for x in xvals]\n",
    "df[\"src\"] = ([\"tdigest\"] * len(xvals)) + ([\"cdf\"] * len(xvals))\n",
    "alt.Chart(df).mark_line().encode(x=\"x\", y=\"cdf\", color=\"src\")"
   ]
  },
  {
   "cell_type": "markdown",
   "metadata": {},
   "source": [
    "# A T-Digest Anomaly Score\n",
    "The next cell defines an anomaly detector class that implements a negative-log based anomaly score similar to the `anomaly2` method in our earlier Gaussian anomaly detector.\n",
    "This detector uses a t-digest sketch to obtain its CDF values.\n",
    "Another difference is that it assumes a single-tailed distribution, such that only large positive values are considered anomalous."
   ]
  },
  {
   "cell_type": "code",
   "execution_count": null,
   "metadata": {},
   "outputs": [],
   "source": [
    "class TDigestAnomalyDetector(object):\n",
    "    def __init__(self, td):\n",
    "        self.td = td\n",
    "\n",
    "    # use the negative log of the tail probability as the score\n",
    "    def anomaly(self, x):\n",
    "        cdf = self.td.cdf(x)\n",
    "        # Here we'll assume we're only testing for \"large positive\" anomalies\n",
    "        t = 1 - cdf\n",
    "        # make sure we don't try to take the logarithm of zero\n",
    "        t = max(t, 1e-100)\n",
    "        return -math.log(t)"
   ]
  },
  {
   "cell_type": "markdown",
   "metadata": {},
   "source": [
    "# Create a Detector\n",
    "In this cell we'll create an anomaly detector from our data sketch.\n",
    "Based on the data range we observed above, we declare some testing data points to examine the behavior of our anomaly score."
   ]
  },
  {
   "cell_type": "code",
   "execution_count": null,
   "metadata": {},
   "outputs": [],
   "source": [
    "detector = TDigestAnomalyDetector(sketch)\n",
    "data = [0, 5, 10, 15, 20, 25]"
   ]
  },
  {
   "cell_type": "markdown",
   "metadata": {},
   "source": [
    "# Anomaly Score\n",
    "The following table shows the numeric behavior of our t-digest based anomaly scores.\n",
    "As points move out onto the tail of the distribution, the score grows larger, as with our Gaussian anomalies.\n",
    "\n",
    "The last point has numerically saturated at cdf(x) = 1\n",
    "(230.2 is the negative log of our safety limit 1e-100).\n",
    "This is one noteworthy property of using distribution sketches with finite support,\n",
    "as contrasted with infinite-support models such as a Gaussian."
   ]
  },
  {
   "cell_type": "code",
   "execution_count": null,
   "metadata": {},
   "outputs": [],
   "source": [
    "scores = pd.DataFrame({\n",
    "  'x': data,\n",
    "  'score': [detector.anomaly(x) for x in data]\n",
    "})\n",
    "scores"
   ]
  },
  {
   "cell_type": "markdown",
   "metadata": {},
   "source": [
    "# Plotting the Anomaly Score\n",
    "Plotting the scores we obtained above gives us a visual intuition about negative-log scores with a t-digest.\n",
    "Until the score saturates at 1, its behavior is essentially the same as what we saw with Gaussian CDFs.\n",
    "Because t-digests sketch over a finite support interval, CDF scores will always eventually saturate at 1,\n",
    "which can result in the large jump we see at our final test point (clipped in the plot below)."
   ]
  },
  {
   "cell_type": "code",
   "execution_count": null,
   "metadata": {},
   "outputs": [],
   "source": [
    "alt.Chart(scores).mark_line(point=True,clip=True).encode(\n",
    "    alt.Y('score', scale=alt.Scale(domain=(0, 10))),\n",
    "    x='x'\n",
    ")"
   ]
  },
  {
   "cell_type": "markdown",
   "metadata": {},
   "source": [
    "# Exercises\n",
    "1. If you run this notebook using a larger sample for creating `sketch`, what happens to the support of the distribution?\n",
    "1. How do the sketch and anomaly score change if the `compression` parameter of the t-digest is altered?\n",
    "1. Try repeating these experiments with a real data set. Does the behavior of the anomaly score change with different data?"
   ]
  },
  {
   "cell_type": "code",
   "execution_count": null,
   "metadata": {},
   "outputs": [],
   "source": []
  }
 ],
 "metadata": {
  "kernelspec": {
   "display_name": "Python 3",
   "language": "python",
   "name": "python3"
  },
  "language_info": {
   "codemirror_mode": {
    "name": "ipython",
    "version": 3
   },
   "file_extension": ".py",
   "mimetype": "text/x-python",
   "name": "python",
   "nbconvert_exporter": "python",
   "pygments_lexer": "ipython3",
   "version": "3.7.3"
  }
 },
 "nbformat": 4,
 "nbformat_minor": 2
}
