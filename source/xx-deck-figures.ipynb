{
 "cells": [
  {
   "cell_type": "code",
   "execution_count": null,
   "metadata": {},
   "outputs": [],
   "source": [
    "import math\n",
    "import numpy as np\n",
    "import scipy\n",
    "import scipy.stats\n",
    "from scipy.stats import gamma, norm, lognorm\n",
    "import pandas as pd\n",
    "import altair as alt\n",
    "from detail.altairdf import altairDF\n",
    "alt.renderers.enable(\"notebook\")"
   ]
  },
  {
   "cell_type": "code",
   "execution_count": null,
   "metadata": {},
   "outputs": [],
   "source": [
    "fico = pd.DataFrame()\n",
    "fico[\"percentage\"] = [x/100 for x in [4.7, 6.8, 8.5, 10.0, 13.2, 17.1, 19.0, 20.7]]\n",
    "fico[\"range\"] = [\"300-499\", \"500-549\", \"550-599\", \"600-649\", \"650-699\", \"700-749\", \"750-799\", \"800-850\"]\n",
    "fico"
   ]
  },
  {
   "cell_type": "code",
   "execution_count": null,
   "metadata": {},
   "outputs": [],
   "source": [
    "alt.Chart(fico).mark_bar().encode(x=\"range\",y=alt.Y(\"percentage\", axis=alt.Axis(format=\"%\"))).properties(width=600, title=\"FICO scores, 2017\")"
   ]
  },
  {
   "cell_type": "code",
   "execution_count": null,
   "metadata": {},
   "outputs": [],
   "source": [
    "plotdf = altairDF(np.linspace(0, 2, num=100).tolist(), \\\n",
    "                  [lambda x: gamma.pdf(5 * x, 1.5)], \\\n",
    "                  labels = [\"1. normal\"], ycol=\"pdf\", xcol=\"query latency\")\n",
    "alt.Chart(plotdf).mark_line().encode(x=\"query latency\", y=\"pdf\", color=\"color\")"
   ]
  },
  {
   "cell_type": "code",
   "execution_count": null,
   "metadata": {},
   "outputs": [],
   "source": [
    "plotdf = altairDF(np.linspace(0, 2, num=100).tolist(), \\\n",
    "                  [lambda x: gamma.pdf(5*x, 1.5), lambda x: gamma.pdf(3*x, 3)], \\\n",
    "                  labels = [\"1. normal\", \"2. latest\"], ycol=\"pdf\", xcol=\"query latency\")\n",
    "alt.Chart(plotdf).mark_line().encode(x=\"query latency\", y=\"pdf\", color=\"color\")"
   ]
  },
  {
   "cell_type": "code",
   "execution_count": null,
   "metadata": {},
   "outputs": [],
   "source": [
    "plotdf = altairDF(np.linspace(-4, 4, num=100).tolist(), \\\n",
    "                  [lambda x: norm.pdf(x, 0, 1)], \\\n",
    "                  labels = [\"gaussian\"], ycol=\"pdf\")\n",
    "base = alt.Chart().mark_line().encode(x=\"x\", y=\"pdf\", color=\"color\")\n",
    "rule1 = alt.Chart().mark_rule(color=\"green\").encode(x='a1:Q')\n",
    "rule2 = alt.Chart().mark_rule(color=\"orange\").encode(x='a2:Q')\n",
    "rule3 = alt.Chart().mark_rule(color=\"red\").encode(x='a3:Q')\n",
    "alt.layer(base, rule1, rule2, rule3, data = plotdf).transform_calculate(a1=\"0.5\",a2=\"3\",a3=\"4\").properties(width=600, height=200)"
   ]
  },
  {
   "cell_type": "code",
   "execution_count": null,
   "metadata": {},
   "outputs": [],
   "source": [
    "plotdf = altairDF(np.linspace(-4, 4, num=100).tolist(), \\\n",
    "                  [lambda x: norm.pdf(x, 0, 1), lambda x: norm.cdf(x, 0, 1)], \\\n",
    "                  labels = [\"gaussian\", \"gaussian CDF\"], ycol=\"pdf/cdf\")\n",
    "alt.Chart(plotdf).mark_line().encode(x=\"x\", y=\"pdf/cdf\", color=\"color\").properties(width=600, height=200)"
   ]
  },
  {
   "cell_type": "code",
   "execution_count": null,
   "metadata": {},
   "outputs": [],
   "source": [
    "plotdf = altairDF(np.linspace(-4, 4, num=100).tolist(), \\\n",
    "                  [lambda x: norm.pdf(x, 0, 1)], \\\n",
    "                  labels = [\"gaussian\"], ycol=\"pdf\")\n",
    "t1df = altairDF(np.linspace(-4, -2, num=100).tolist(), \\\n",
    "                  [lambda x: norm.pdf(x, 0, 1)], \\\n",
    "                  labels = [\"gaussian\"], ycol=\"pdf\")\n",
    "t2df = altairDF(np.linspace(2, 4, num=100).tolist(), \\\n",
    "                  [lambda x: norm.pdf(x, 0, 1)], \\\n",
    "                  labels = [\"gaussian\"], ycol=\"pdf\")\n",
    "base = alt.Chart(plotdf).mark_line().encode(x=\"x\", y=\"pdf\", color=\"color\")\n",
    "t1 = alt.Chart(t1df).mark_area().encode(x=\"x\", y=\"pdf\", color=\"color\")\n",
    "t2 = alt.Chart(t2df).mark_area().encode(x=\"x\", y=\"pdf\", color=\"color\")\n",
    "alt.layer(base,t1,t2).properties(width=600, height=200)"
   ]
  },
  {
   "cell_type": "code",
   "execution_count": null,
   "metadata": {},
   "outputs": [],
   "source": [
    "plotdf = altairDF(np.linspace(0, 2, num=100).tolist(), \\\n",
    "                  [lambda x: norm.pdf(x, 1, .3), lambda x: gamma.pdf(2*x, 1), lambda x: gamma.pdf(x, 1.25)], \\\n",
    "                  labels = [\"gaussian\", \"exponential\", \"gamma\"], ycol=\"pdf\", xcol=\"x\")\n",
    "alt.Chart(plotdf).mark_line().encode(x=\"x\", y=\"pdf\", color=\"color\")"
   ]
  },
  {
   "cell_type": "code",
   "execution_count": null,
   "metadata": {},
   "outputs": [],
   "source": [
    "plotdf = altairDF(np.linspace(0, 3, num=100).tolist(), \\\n",
    "                  [lambda x: (norm.pdf(x, 1.5, .3) + gamma.pdf(x, 1.25))/2], \\\n",
    "                  labels = [\"mystery!\"], ycol=\"pdf\", xcol=\"x\")\n",
    "alt.Chart(plotdf).mark_line().encode(x=\"x\", y=\"pdf\", color=\"color\")"
   ]
  },
  {
   "cell_type": "code",
   "execution_count": null,
   "metadata": {},
   "outputs": [],
   "source": [
    "a1 = 1\n",
    "a2 = 7\n",
    "w1 = 0.5\n",
    "w2 = 0.5\n",
    "\n",
    "# Sample from a mixture of two gamma distributions\n",
    "def mixsamp():\n",
    "    r = scipy.stats.uniform.rvs(size=1)[0]\n",
    "    if (r <= w1):\n",
    "        return scipy.stats.gamma.rvs(a1, size=1)[0]\n",
    "    else:\n",
    "        return scipy.stats.gamma.rvs(a2, size=1)[0]\n",
    "\n",
    "def mixcdf(x):\n",
    "    return (w1 * scipy.stats.gamma.cdf(x, a1)) + (w2 * scipy.stats.gamma.cdf(x, a2))\n",
    "\n",
    "# Sketch some data sampled from this distribution with a t-digest\n",
    "from detail.tdigest import TDigest\n",
    "sketch = TDigest(compression = 0.1)\n",
    "for p in [mixsamp() for x in range(100000)]:\n",
    "    sketch.update(p)\n",
    "\n"
   ]
  },
  {
   "cell_type": "code",
   "execution_count": null,
   "metadata": {},
   "outputs": [],
   "source": [
    "xvals = np.arange(sketch.cdfi(0), sketch.cdfi(1)).tolist()\n",
    "df = pd.DataFrame()\n",
    "df[\"x\"] = xvals + xvals\n",
    "df[\"cdf\"] = [sketch.cdf(x) for x in xvals] + [mixcdf(x) for x in xvals]\n",
    "df[\"src\"] = ([\"tdigest\"] * len(xvals)) + ([\"cdf\"] * len(xvals))\n",
    "alt.Chart(df).mark_line().encode(x=\"x\", y=\"cdf\", color=\"src\")"
   ]
  },
  {
   "cell_type": "code",
   "execution_count": null,
   "metadata": {},
   "outputs": [],
   "source": [
    "plotdf = altairDF(np.linspace(0, 25, num=100).tolist(), \\\n",
    "                  [lambda x: mixcdf(x)], \\\n",
    "                  [\"weird cdf\"], ycol=\"cdf\")\n",
    "alt.Chart(plotdf).mark_line(color=\"blue\").encode(x=\"x\", y=\"cdf\").properties(height=100)"
   ]
  },
  {
   "cell_type": "code",
   "execution_count": null,
   "metadata": {},
   "outputs": [],
   "source": [
    "plotdf = altairDF(np.linspace(0, 25, num=100).tolist(), \\\n",
    "                  [lambda x: sketch.cdf(x)], \\\n",
    "                  [\"sketch cdf\"], ycol=\"cdf\")\n",
    "alt.Chart(plotdf).mark_line(color=\"darkorange\").encode(x=\"x\", y=\"cdf\").properties(height=100)"
   ]
  },
  {
   "cell_type": "code",
   "execution_count": null,
   "metadata": {},
   "outputs": [],
   "source": [
    "plotdf = altairDF(np.linspace(0, 25, num=100).tolist(), \\\n",
    "                  [lambda x: sketch.cdf(x), lambda x: mixcdf(x)], \\\n",
    "                  [\"2. tdigest sketch\", \"1. weird cdf\"], ycol=\"cdf\")\n",
    "alt.Chart(plotdf).mark_line().encode(x=\"x\", y=\"cdf\", color=\"color\").properties(height=350)"
   ]
  },
  {
   "cell_type": "code",
   "execution_count": null,
   "metadata": {},
   "outputs": [],
   "source": [
    "weirddata = [mixsamp() for x in range(10000)]"
   ]
  },
  {
   "cell_type": "code",
   "execution_count": null,
   "metadata": {},
   "outputs": [],
   "source": [
    "p1, p2 = scipy.stats.norm.fit(weirddata)\n",
    "plotdf = altairDF(np.linspace(0, 25, num=100).tolist(), \\\n",
    "                  [lambda x: mixcdf(x), lambda x: scipy.stats.norm.cdf(x, p1, p2)], \\\n",
    "                  [\"1. weird cdf\", \"2. gaussian sketch\"], ycol=\"cdf\")\n",
    "alt.Chart(plotdf).mark_line().encode(x=\"x\", y=\"cdf\", color=\"color\").properties(height=350)"
   ]
  },
  {
   "cell_type": "code",
   "execution_count": null,
   "metadata": {},
   "outputs": [],
   "source": [
    "p1, p2, p3 = scipy.stats.gamma.fit(weirddata)\n",
    "plotdf = altairDF(np.linspace(0, 25, num=100).tolist(), \\\n",
    "                  [lambda x: mixcdf(x), lambda x: scipy.stats.gamma.cdf(x, p1, p2, p3)], \\\n",
    "                  [\"1. weird cdf\", \"2. gamma sketch\"], ycol=\"cdf\")\n",
    "alt.Chart(plotdf).mark_line().encode(x=\"x\", y=\"cdf\", color=\"color\").properties(height=350)"
   ]
  },
  {
   "cell_type": "code",
   "execution_count": null,
   "metadata": {},
   "outputs": [],
   "source": [
    "kdesketch = scipy.stats.gaussian_kde(weirddata)\n",
    "plotdf = altairDF(np.linspace(-2, 25, num=100).tolist(), \\\n",
    "                  [lambda x: mixcdf(x), lambda x: kdesketch.integrate_box_1d(-10,x)], \\\n",
    "                  [\"1. weird cdf\", \"2. kde sketch\"], ycol=\"cdf\")\n",
    "alt.Chart(plotdf).mark_line().encode(x=\"x\", y=\"cdf\", color=\"color\").properties(height=350)"
   ]
  },
  {
   "cell_type": "code",
   "execution_count": null,
   "metadata": {},
   "outputs": [],
   "source": [
    "plotdf = altairDF(np.linspace(0, 25, num=100).tolist(), \\\n",
    "                  [lambda x: mixcdf(x)], \\\n",
    "                  [\"weird cdf\"], ycol=\"cdf\")\n",
    "alt.Chart(plotdf).mark_line(color=\"blue\").encode(x=\"x\", y=\"cdf\").properties(height=350)"
   ]
  },
  {
   "cell_type": "code",
   "execution_count": null,
   "metadata": {},
   "outputs": [],
   "source": [
    "scipy.stats.norm.rvs(size=4)"
   ]
  },
  {
   "cell_type": "code",
   "execution_count": null,
   "metadata": {},
   "outputs": [],
   "source": [
    "max(scipy.stats.norm.rvs(size=1000000))"
   ]
  },
  {
   "cell_type": "code",
   "execution_count": null,
   "metadata": {},
   "outputs": [],
   "source": [
    "plotdf = altairDF(np.linspace(-5, 5, num=100).tolist(), \\\n",
    "                  [lambda x: norm.pdf(x, 0, 1)], \\\n",
    "                  labels = [\"gaussian\"], ycol=\"pdf\")\n",
    "alt.Chart(plotdf).mark_line().encode(x=\"x\", y=\"pdf\", color=\"color\").properties(width=600, height=200)"
   ]
  },
  {
   "cell_type": "code",
   "execution_count": null,
   "metadata": {},
   "outputs": [],
   "source": [
    "plotdf = altairDF(np.linspace(-3, 6, num=100).tolist(), \\\n",
    "                  [lambda x: norm.cdf(x, 0, 1), lambda x: math.pow(norm.cdf(x, 0, 1), 10), lambda x: math.pow(norm.cdf(x, 0, 1), 1000), lambda x: math.pow(norm.cdf(x, 0, 1), 1000000)], \\\n",
    "                  labels = [\"CDF\", \"EVD ss=10\", \"EVD ss=1000\", \"EVD ss=1000000\"], ycol=\"cdf\")\n",
    "base = alt.Chart().mark_line().encode(x=\"x\", y=\"cdf\", color=\"color\").properties(width=600, height=200)\n",
    "rule1 = alt.Chart().mark_rule(color=\"black\").encode(x='a1:Q')\n",
    "alt.layer(base, rule1, data=plotdf).transform_calculate(a1=\"5\").properties(width=600, height=200)"
   ]
  },
  {
   "cell_type": "code",
   "execution_count": null,
   "metadata": {},
   "outputs": [],
   "source": []
  }
 ],
 "metadata": {
  "kernelspec": {
   "display_name": "Python 3",
   "language": "python",
   "name": "python3"
  },
  "language_info": {
   "codemirror_mode": {
    "name": "ipython",
    "version": 3
   },
   "file_extension": ".py",
   "mimetype": "text/x-python",
   "name": "python",
   "nbconvert_exporter": "python",
   "pygments_lexer": "ipython3",
   "version": "3.7.3"
  }
 },
 "nbformat": 4,
 "nbformat_minor": 2
}
