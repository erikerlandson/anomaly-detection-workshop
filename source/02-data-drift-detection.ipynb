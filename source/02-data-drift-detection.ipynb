{
 "cells": [
  {
   "cell_type": "code",
   "execution_count": null,
   "metadata": {},
   "outputs": [],
   "source": [
    "import math\n",
    "import numpy as np\n",
    "import scipy\n",
    "import scipy.stats\n",
    "from scipy.stats import gamma, kstest\n",
    "import pandas as pd\n",
    "import altair as alt\n",
    "from detail.altairdf import altairDF\n",
    "alt.renderers.enable(\"notebook\")"
   ]
  },
  {
   "cell_type": "code",
   "execution_count": null,
   "metadata": {},
   "outputs": [],
   "source": [
    "from detail.tdigest import TDigest"
   ]
  },
  {
   "cell_type": "code",
   "execution_count": null,
   "metadata": {},
   "outputs": [],
   "source": [
    "sketch = TDigest(compression = 0.1)\n",
    "for p in gamma.rvs(1.0, size=100000):\n",
    "    sketch.update(p)"
   ]
  },
  {
   "cell_type": "code",
   "execution_count": null,
   "metadata": {},
   "outputs": [],
   "source": [
    "ssv = [100, 1000, 10000, 100000]\n",
    "ksv = [kstest(gamma.rvs(1.0, size=ss), lambda xv: [sketch.cdf(x) for x in xv]) for ss in ssv]\n",
    "ksdf = pd.DataFrame()\n",
    "ksdf[\"ss\"] = ssv\n",
    "ksdf[\"stat\"] = [ks.statistic for ks in ksv]\n",
    "ksdf[\"pval\"] = [ks.pvalue for ks in ksv]\n",
    "ksdf"
   ]
  },
  {
   "cell_type": "code",
   "execution_count": null,
   "metadata": {},
   "outputs": [],
   "source": [
    "plotdf = altairDF(np.linspace(sketch.cdfi(0), sketch.cdfi(1), num=20).tolist(), \\\n",
    "                  [lambda x: sketch.cdf(x), lambda x: gamma.cdf(x, 1.0)], \\\n",
    "                  labels = [\"sketch cdf\", \"drift\"], ycol=\"CDF\")\n",
    "alt.Chart(plotdf).mark_line().encode(x=\"x\", y=\"CDF\", color=\"color\")"
   ]
  },
  {
   "cell_type": "code",
   "execution_count": null,
   "metadata": {
    "scrolled": true
   },
   "outputs": [],
   "source": [
    "ksv = [kstest(gamma.rvs(1.1, size=ss), lambda xv: [sketch.cdf(x) for x in xv]) for ss in ssv]\n",
    "ksdf = pd.DataFrame()\n",
    "ksdf[\"ss\"] = ssv\n",
    "ksdf[\"stat\"] = [ks.statistic for ks in ksv]\n",
    "ksdf[\"pval\"] = [ks.pvalue for ks in ksv]\n",
    "ksdf"
   ]
  },
  {
   "cell_type": "code",
   "execution_count": null,
   "metadata": {},
   "outputs": [],
   "source": [
    "plotdf = altairDF(np.linspace(sketch.cdfi(0), sketch.cdfi(1), num=20).tolist(), \\\n",
    "                  [lambda x: sketch.cdf(x), lambda x: gamma.cdf(x, 1.1)], \\\n",
    "                  labels = [\"sketch cdf\", \"drift\"], ycol=\"CDF\")\n",
    "alt.Chart(plotdf).mark_line().encode(x=\"x\", y=\"CDF\", color=\"color\")"
   ]
  },
  {
   "cell_type": "code",
   "execution_count": null,
   "metadata": {},
   "outputs": [],
   "source": [
    "ss = 10000\n",
    "shapes = [1.0, 1.1, 1.25, 1.5, 2.0]\n",
    "ksv = [kstest(gamma.rvs(a, size=ss), lambda xv: [sketch.cdf(x) for x in xv]) for a in shapes]\n",
    "ksdf = pd.DataFrame()\n",
    "ksdf[\"shape\"] = shapes\n",
    "ksdf[\"stat\"] = [ks.statistic for ks in ksv]\n",
    "ksdf[\"pval\"] = [ks.pvalue for ks in ksv]\n",
    "ksdf"
   ]
  },
  {
   "cell_type": "code",
   "execution_count": null,
   "metadata": {},
   "outputs": [],
   "source": [
    "plotdf = altairDF(np.linspace(sketch.cdfi(0), sketch.cdfi(1), num=20).tolist(), \\\n",
    "                  [lambda x: sketch.cdf(x), lambda x: gamma.cdf(x, 1.1), lambda x: gamma.cdf(x, 1.25), lambda x: gamma.cdf(x, 1.5), lambda x: gamma.cdf(x, 2.0)], \\\n",
    "                  labels = [\"1. sketch\", \"2. drift 1.1\", \"3. drift 1.25\", \"4. drift 1.5\", \"5. drift 2.0\"], \\\n",
    "                  ycol=\"CDF\")\n",
    "alt.Chart(plotdf).mark_line().encode(x=\"x\", y=\"CDF\", color=\"color\")"
   ]
  },
  {
   "cell_type": "code",
   "execution_count": null,
   "metadata": {},
   "outputs": [],
   "source": []
  }
 ],
 "metadata": {
  "kernelspec": {
   "display_name": "Python 3",
   "language": "python",
   "name": "python3"
  },
  "language_info": {
   "codemirror_mode": {
    "name": "ipython",
    "version": 3
   },
   "file_extension": ".py",
   "mimetype": "text/x-python",
   "name": "python",
   "nbconvert_exporter": "python",
   "pygments_lexer": "ipython3",
   "version": "3.7.3"
  }
 },
 "nbformat": 4,
 "nbformat_minor": 2
}
