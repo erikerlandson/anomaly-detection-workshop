{
 "cells": [
  {
   "cell_type": "markdown",
   "metadata": {},
   "source": [
    "# Detecting Data Drift\n",
    "The characteristics of systems, and the data they generate, often change over time.\n",
    "This type of change is sometimes referred to as \"data drift\".\n",
    "\n",
    "Data Drift is important to measure.\n",
    "It indicates that system inputs or operating characteristics are changing.\n",
    "Problems detectable via data drift include\n",
    "* predictive models experiencing performance loss, due to changing input features\n",
    "* degrading latency characteristics from software or hardware failures\n",
    "* changes to customer or user behavior patterns\n",
    "* system intrusion, malware or other compromised security\n",
    "\n",
    "Data Drift shows up in changes to the shape of the data's _distribution_ and it is detectable with statistical tools.\n",
    "This notebook explores techniques for detecting data drift using the Kolmogorov Smirnov test."
   ]
  },
  {
   "cell_type": "markdown",
   "metadata": {},
   "source": [
    "# Kolmogorov Smirnov Test\n",
    "The [Kolmogorov Smirnov](https://en.wikipedia.org/wiki/Kolmogorov%E2%80%93Smirnov_test) test, or KS-test, is a statistical test designed to measure the difference between two cumulative distributions.\n",
    "Like most statistical tests, it has two components: a KS test _statistic_, and a corresponding _p-value_.\n",
    "The KS statistic measures the absolute difference between two CDFs, as illustrated here:\n",
    "\n",
    "![KS-statistic](https://upload.wikimedia.org/wikipedia/commons/thumb/c/cf/KS_Example.png/450px-KS_Example.png)\n",
    "\n",
    "The KS _sampling distribution_ can be used to convert a KS-statistic into a corresponding p-value: the probability that a sample comes from some distribution, or two samples were drawn from the same distribution."
   ]
  },
  {
   "cell_type": "code",
   "execution_count": null,
   "metadata": {},
   "outputs": [],
   "source": [
    "import math\n",
    "import numpy as np\n",
    "import scipy\n",
    "import scipy.stats\n",
    "from scipy.stats import gamma, kstest\n",
    "import pandas as pd\n",
    "import altair as alt\n",
    "from detail.altairdf import altairDF\n",
    "alt.renderers.enable(\"notebook\")"
   ]
  },
  {
   "cell_type": "markdown",
   "metadata": {},
   "source": [
    "# T-Digest Distribution Sketches\n",
    "As we saw in previous notebooks, t-digets sketches provide efficient and accurate approximations to distributions with arbitrary shapes.\n",
    "That makes them an excellent tool for detecting data drift.\n",
    "In this cell we import the python implementation of t-digests used in this workshop."
   ]
  },
  {
   "cell_type": "code",
   "execution_count": null,
   "metadata": {},
   "outputs": [],
   "source": [
    "from detail.tdigest import TDigest"
   ]
  },
  {
   "cell_type": "markdown",
   "metadata": {},
   "source": [
    "# Sketching a Baseline Distribution\n",
    "Data drift can only be measured with respect to some reference, or baseline, data.\n",
    "In the following cell we sketch some example data drawn from a Gamma distribution.\n",
    "The resulting sketch will serve as the baseline for our experiments."
   ]
  },
  {
   "cell_type": "code",
   "execution_count": null,
   "metadata": {},
   "outputs": [],
   "source": [
    "sketch = TDigest(compression = 0.1)\n",
    "for p in gamma.rvs(1.0, size=100000):\n",
    "    sketch.update(p)"
   ]
  },
  {
   "cell_type": "markdown",
   "metadata": {},
   "source": [
    "# Effects of sample size on KS tests\n",
    "The following cell explores how sample size affects the output of a KS test.\n",
    "It generates a table of the KS statistic and the corresponding p-value for each sample size:"
   ]
  },
  {
   "cell_type": "code",
   "execution_count": null,
   "metadata": {},
   "outputs": [],
   "source": [
    "ssv = [100, 1000, 10000, 100000]\n",
    "ksv = [kstest(gamma.rvs(1.0, size=ss), lambda xv: [sketch.cdf(x) for x in xv]) for ss in ssv]\n",
    "ksdf = pd.DataFrame()\n",
    "ksdf[\"ss\"] = ssv\n",
    "ksdf[\"stat\"] = [ks.statistic for ks in ksv]\n",
    "ksdf[\"pval\"] = [ks.pvalue for ks in ksv]\n",
    "ksdf"
   ]
  },
  {
   "cell_type": "markdown",
   "metadata": {},
   "source": [
    "In the table above, we see two things.\n",
    "As the test sample size increases, the KS statistic stabilizes at just above 0.01 and the corresponding p-values approach zero.\n",
    "Why is this happening?\n",
    "Remember that our sketch is an _approximation_ of the true distribution.\n",
    "The KS-statistic becomes small (but never zero) and the p-values eventually approach zero, because the two distributions are definitely _not_ the same, merely similar.\n",
    "\n",
    "The following plot shows what this looks like visually.\n",
    "As you can see, a KS statistic of ~0.01 represents distributions that are almost exactly the same, which in this case is a reflection of the fidelity of the t-digest sketch."
   ]
  },
  {
   "cell_type": "code",
   "execution_count": null,
   "metadata": {},
   "outputs": [],
   "source": [
    "plotdf = altairDF(np.linspace(sketch.cdfi(0), sketch.cdfi(1), num=20).tolist(), \\\n",
    "                  [lambda x: sketch.cdf(x), lambda x: gamma.cdf(x, 1.0)], \\\n",
    "                  labels = [\"sketch\", \"gamma(1.0)\"], ycol=\"CDF\")\n",
    "alt.Chart(plotdf).mark_line().encode(x=\"x\", y=\"CDF\", color=\"color\")"
   ]
  },
  {
   "cell_type": "markdown",
   "metadata": {},
   "source": [
    "# Introducing Some Drift\n",
    "\n",
    "So far, we have not examined any changes to the underlying distribution.\n",
    "If we change the shape parameter to our Gamma distribution, that will simulate what happens when something changes in our software systems.\n",
    "In the following cell, we sample using a shape parameter of 1.25 instead of 1.0, and see how that affects the outputs of our KS testing:"
   ]
  },
  {
   "cell_type": "code",
   "execution_count": null,
   "metadata": {
    "scrolled": true
   },
   "outputs": [],
   "source": [
    "ksv = [kstest(gamma.rvs(1.25, size=ss), lambda xv: [sketch.cdf(x) for x in xv]) for ss in ssv]\n",
    "ksdf = pd.DataFrame()\n",
    "ksdf[\"ss\"] = ssv\n",
    "ksdf[\"stat\"] = [ks.statistic for ks in ksv]\n",
    "ksdf[\"pval\"] = [ks.pvalue for ks in ksv]\n",
    "ksdf"
   ]
  },
  {
   "cell_type": "markdown",
   "metadata": {},
   "source": [
    "In this table, we can see that the p-values approach zero even faster, which reflects that our distribution has drifted from our baseline.\n",
    "More importantly, our KS-statistic now bottoms out at ~0.45: the KS-statistic is providing a numeric measure of how much drift has actually occurred.\n",
    "\n",
    "Another pattern we can see from our tables is that the KS-statistic does not stabilize until our sample size reaches at least 1000 to 10000.\n",
    "That suggests a \"best practice\" for measuring data drift.\n",
    "\n",
    "The following plot visually shows the drift from our baseline sketch:"
   ]
  },
  {
   "cell_type": "code",
   "execution_count": null,
   "metadata": {},
   "outputs": [],
   "source": [
    "plotdf = altairDF(np.linspace(sketch.cdfi(0), sketch.cdfi(1), num=20).tolist(), \\\n",
    "                  [lambda x: sketch.cdf(x), lambda x: gamma.cdf(x, 1.25)], \\\n",
    "                  labels = [\"baseline sketch\", \"drift\"], ycol=\"CDF\")\n",
    "alt.Chart(plotdf).mark_line().encode(x=\"x\", y=\"CDF\", color=\"color\")"
   ]
  },
  {
   "cell_type": "markdown",
   "metadata": {},
   "source": [
    "# Increasing Drift\n",
    "\n",
    "Using the intuitions from our previous table, we'll fix a sample size of 10000 and generate a table where we alter our shape parameter to simulate increasing drift:"
   ]
  },
  {
   "cell_type": "code",
   "execution_count": null,
   "metadata": {},
   "outputs": [],
   "source": [
    "ss = 10000\n",
    "shapes = [1.25, 1.5, 2.0, 3.0]\n",
    "ksv = [kstest(gamma.rvs(a, size=ss), lambda xv: [sketch.cdf(x) for x in xv]) for a in shapes]\n",
    "ksdf = pd.DataFrame()\n",
    "ksdf[\"shape\"] = shapes\n",
    "ksdf[\"stat\"] = [ks.statistic for ks in ksv]\n",
    "ksdf[\"pval\"] = [ks.pvalue for ks in ksv]\n",
    "ksdf"
   ]
  },
  {
   "cell_type": "markdown",
   "metadata": {},
   "source": [
    "As drift increases the KS-statistic also increases, reflecting the increasing difference between the distributions and our baseline.\n",
    "The following plot visually shows what increasing drift looks like with respect to the CDFs of the distribution."
   ]
  },
  {
   "cell_type": "code",
   "execution_count": null,
   "metadata": {},
   "outputs": [],
   "source": [
    "plotdf = altairDF(np.linspace(sketch.cdfi(0), sketch.cdfi(1), num=20).tolist(), \\\n",
    "                  [lambda x: sketch.cdf(x), lambda x: gamma.cdf(x, 1.25), lambda x: gamma.cdf(x, 1.5), lambda x: gamma.cdf(x, 2.0), lambda x: gamma.cdf(x, 3.0)], \\\n",
    "                  labels = [\"1. baseline\", \"2. drift 1.25\", \"3. drift 1.5\", \"4. drift 2.0\", \"5. drift 3.0\"], \\\n",
    "                  ycol=\"CDF\")\n",
    "alt.Chart(plotdf).mark_line().encode(x=\"x\", y=\"CDF\", color=\"color\")"
   ]
  },
  {
   "cell_type": "markdown",
   "metadata": {},
   "source": [
    "# Exercises\n",
    "1. Try running these experiments using a different distribution family.\n",
    "1. What are some applications of data drift detection that would be useful to you?\n",
    "1. Based on the experiments above, what would be a good rule of thumb for picking a KS-statistic threshold for flagging significant data drift?"
   ]
  },
  {
   "cell_type": "code",
   "execution_count": null,
   "metadata": {},
   "outputs": [],
   "source": []
  }
 ],
 "metadata": {
  "kernelspec": {
   "display_name": "Python 3",
   "language": "python",
   "name": "python3"
  },
  "language_info": {
   "codemirror_mode": {
    "name": "ipython",
    "version": 3
   },
   "file_extension": ".py",
   "mimetype": "text/x-python",
   "name": "python",
   "nbconvert_exporter": "python",
   "pygments_lexer": "ipython3",
   "version": "3.7.3"
  }
 },
 "nbformat": 4,
 "nbformat_minor": 2
}
